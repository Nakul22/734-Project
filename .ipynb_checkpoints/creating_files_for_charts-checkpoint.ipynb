{
 "cells": [
  {
   "cell_type": "code",
   "execution_count": 8,
   "metadata": {},
   "outputs": [],
   "source": [
    "import pandas as pd\n",
    "import csv\n",
    "import os"
   ]
  },
  {
   "cell_type": "code",
   "execution_count": 9,
   "metadata": {},
   "outputs": [],
   "source": [
    "prob_mask = [25,50,75,100]\n",
    "days_bet_test = [1,7,14]\n",
    "time_for_result = [0,1,3,7]\n",
    "false_neg = [1,5,10]\n",
    "quarantine = [0,1]\n",
    "root_address = \"datasets/\"\n",
    "add_list=[]\n",
    "# list of each addresses\n",
    "for i_1 in range(0,len(prob_mask)):\n",
    "    for i_2 in range(0,len(days_bet_test)):\n",
    "        for i_3 in range(0,len(time_for_result)):\n",
    "            for i_4 in range(0,len(false_neg)):\n",
    "                for i_5 in range(0,len(quarantine)):\n",
    "                    tem_address = root_address + str(prob_mask[i_1]) + '_' + \\\n",
    "                    str(days_bet_test[i_2]) + '_' + str(time_for_result[i_3]) + '_' + \\\n",
    "                    str(false_neg[i_4]) + '_' + str(quarantine[i_5])\n",
    "                    add_list.append(tem_address)\n",
    "# make folder to each of the addresses\n",
    "\n",
    "for i in range(0,len(add_list)):\n",
    "    daily = \"/daily_dataset\"\n",
    "    tem_address = add_list[i] + daily\n",
    "    os.mkdir(tem_address)\n",
    "    "
   ]
  },
  {
   "cell_type": "code",
   "execution_count": 13,
   "metadata": {},
   "outputs": [
    {
     "name": "stdout",
     "output_type": "stream",
     "text": [
      "[['day', 'day', 'infection_occured\\n'], ['-1', '1', '1\\n'], ['6', '1', '1\\n'], ['8', '1', '1\\n'], ['10', '3', '3\\n'], ['11', '5', '5\\n'], ['12', '7', '7\\n'], ['13', '2', '2\\n'], ['14', '3', '3\\n'], ['15', '5', '5\\n'], ['16', '12', '12\\n'], ['17', '12', '12\\n'], ['18', '18', '18\\n'], ['19', '22', '22\\n'], ['20', '6', '6\\n'], ['21', '9', '9\\n'], ['22', '26', '26\\n'], ['23', '35', '35\\n'], ['24', '55', '55\\n'], ['25', '30', '30\\n'], ['26', '42', '42\\n'], ['27', '8', '8\\n']]\n"
     ]
    }
   ],
   "source": [
    "\n",
    "#read daily, daily_cum\n",
    "tem_address = add_list[0]+'/daily.csv'\n",
    "file1 = open(tem_address, 'r') \n",
    "file_csv = file1.readlines()\n",
    "\n",
    "line_col_1 = []\n",
    "line_col_2 = []\n",
    "line_col_3 = []\n",
    "\n",
    "for line in file_csv:\n",
    "    S = line.split(',')\n",
    "    line_col_1.append(S[0])\n",
    "    line_col_1.append(S[1])\n",
    "    line_col_1.append(S[2])\n",
    "    \n",
    "print(line_coll)\n",
    "    "
   ]
  },
  {
   "cell_type": "code",
   "execution_count": null,
   "metadata": {},
   "outputs": [],
   "source": []
  }
 ],
 "metadata": {
  "kernelspec": {
   "display_name": "Python 3",
   "language": "python",
   "name": "python3"
  },
  "language_info": {
   "codemirror_mode": {
    "name": "ipython",
    "version": 3
   },
   "file_extension": ".py",
   "mimetype": "text/x-python",
   "name": "python",
   "nbconvert_exporter": "python",
   "pygments_lexer": "ipython3",
   "version": "3.7.4"
  }
 },
 "nbformat": 4,
 "nbformat_minor": 2
}
