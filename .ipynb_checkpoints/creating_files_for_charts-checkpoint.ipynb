{
 "cells": [
  {
   "cell_type": "code",
   "execution_count": 1,
   "metadata": {},
   "outputs": [],
   "source": [
    "import pandas as pd\n",
    "import csv\n",
    "import os\n",
    "import numpy as np"
   ]
  },
  {
   "cell_type": "code",
   "execution_count": 2,
   "metadata": {},
   "outputs": [],
   "source": [
    "#for i in range(0,len(add_list)):\n",
    "#    daily = \"/daily_dataset\"\n",
    "#    tem_address = add_list[i] + daily\n",
    "#    os.mkdir(tem_address)\n"
   ]
  },
  {
   "cell_type": "code",
   "execution_count": 3,
   "metadata": {},
   "outputs": [],
   "source": [
    "prob_mask = [25,50,75,100]\n",
    "days_bet_test = [1,7,14]\n",
    "time_for_result = [0,1,3,7]\n",
    "false_neg = [1,5,10]\n",
    "quarantine = [0,1]\n",
    "root_address = \"datasets/\"\n",
    "add_list=[]\n",
    "# list of each addresses\n",
    "for i_1 in range(0,len(prob_mask)):\n",
    "    for i_2 in range(0,len(days_bet_test)):\n",
    "        for i_3 in range(0,len(time_for_result)):\n",
    "            for i_4 in range(0,len(false_neg)):\n",
    "                for i_5 in range(0,len(quarantine)):\n",
    "                    tem_address = root_address + str(prob_mask[i_1]) + '_' + \\\n",
    "                    str(days_bet_test[i_2]) + '_' + str(time_for_result[i_3]) + '_' + \\\n",
    "                    str(false_neg[i_4]) + '_' + str(quarantine[i_5])\n",
    "                    add_list.append(tem_address)\n",
    "# make folder to each of the addresses\n",
    "\n",
    "for i in range(0,len(add_list)):\n",
    "    tem_address = add_list[i] + '/daily_cum.csv'\n",
    "    file_open = open(tem_address, 'r') \n",
    "    file_csv = file_open.readlines()\n",
    "    \n",
    "    line_col_1 = []\n",
    "    line_col_2 = []\n",
    "    \n",
    "    s=0\n",
    "    for line in file_csv:\n",
    "        S = line.replace('\\n','').split(',')\n",
    "        if s==0:\n",
    "            title_1 = S[0]\n",
    "            title_2 = S[2]\n",
    "        if not s==0:\n",
    "            line_col_1.append(int(S[0]))\n",
    "            line_col_2.append(int(S[1]))\n",
    "        s+=1\n",
    "\n",
    "    days = np.asarray(line_col_1)\n",
    "    days[0] = 0\n",
    "    days = days+1\n",
    "    \n",
    "    days_domain = np.linspace(1,28,num=28)\n",
    "    output_lin_2 = []\n",
    "    days_domain_int = []\n",
    "    a=0\n",
    "    for j in range(0,len(days_domain)):\n",
    "        if days[a] == days_domain[j]:\n",
    "            output_lin_2.append(line_col_2[a])\n",
    "            best_score_so_far = line_col_2[a]\n",
    "            if a<len(days)-1:\n",
    "                a+=1\n",
    "        else:\n",
    "            output_lin_2.append(best_score_so_far) #getting output\n",
    "            \n",
    "        days_domain_int.append(int(days_domain[j])) #getting the domain\n",
    "    days_domain = days_domain_int\n",
    "    \n",
    "    total_list_1 = []\n",
    "    total_list_2 = []\n",
    "    for j in range(1,len(days_domain)+1):\n",
    "        output_list_1 = []\n",
    "        output_list_2 = []\n",
    "        output_list_1.append(title_1)\n",
    "        output_list_2.append(title_2) \n",
    "        for k in range(0,j):\n",
    "            output_list_1.append(days_domain[k])\n",
    "            output_list_2.append(output_lin_2[k])\n",
    "        total_list_1.append(output_list_1)\n",
    "        total_list_2.append(output_list_2)\n",
    "        \n",
    "    file_dest_address = add_list[i]\n",
    "    for j in range(0,len(total_list_1)):\n",
    "        final_address = file_dest_address+'/'+'daily_cum_'+str(j+1)+'.csv'\n",
    "        file_write = open(final_address,\"w\")\n",
    "        for k in range(0,len(total_list_1[j])):\n",
    "            per_line = str(total_list_1[j][k]) + ',' + str(total_list_2[j][k]) + '\\n'\n",
    "            file_write.write(per_line)\n",
    "        file_write.close()"
   ]
  },
  {
   "cell_type": "code",
   "execution_count": 4,
   "metadata": {},
   "outputs": [],
   "source": [
    "for i in range(0,len(add_list)):\n",
    "    tem_address = add_list[i] + '/daily.csv'\n",
    "    file_open = open(tem_address, 'r') \n",
    "    file_csv = file_open.readlines()\n",
    "    \n",
    "    line_col_1 = []\n",
    "    line_col_2 = []\n",
    "    \n",
    "    s=0\n",
    "    for line in file_csv:\n",
    "        S = line.replace('\\n','').split(',')\n",
    "        if s==0:\n",
    "            title_1 = S[0]\n",
    "            title_2 = S[2]\n",
    "        if not s==0:\n",
    "            line_col_1.append(int(S[0]))\n",
    "            line_col_2.append(int(S[1]))\n",
    "        s+=1\n",
    "\n",
    "    days = np.asarray(line_col_1)\n",
    "    days[0] = 0\n",
    "    days = days+1\n",
    "    \n",
    "    days_domain = np.linspace(1,28,num=28)\n",
    "    output_lin_2 = []\n",
    "    days_domain_int = []\n",
    "    a=0\n",
    "    for j in range(0,len(days_domain)):\n",
    "        if days[a] == days_domain[j]:\n",
    "            output_lin_2.append(line_col_2[a])\n",
    "            if a<len(days)-1:\n",
    "                a+=1\n",
    "        else:\n",
    "            output_lin_2.append(0) #getting output\n",
    "        days_domain_int.append(int(days_domain[j])) #getting the domain\n",
    "    days_domain = days_domain_int\n",
    "    \n",
    "    total_list_1 = []\n",
    "    total_list_2 = []\n",
    "    for j in range(1,len(days_domain)+1):\n",
    "        output_list_1 = []\n",
    "        output_list_2 = []\n",
    "        output_list_1.append(title_1)\n",
    "        output_list_2.append(title_2) \n",
    "        for k in range(0,j):\n",
    "            output_list_1.append(days_domain[k])\n",
    "            output_list_2.append(output_lin_2[k])\n",
    "        total_list_1.append(output_list_1)\n",
    "        total_list_2.append(output_list_2)\n",
    "        \n",
    "    file_dest_address = add_list[i]\n",
    "    for j in range(0,len(total_list_1)):\n",
    "        final_address = file_dest_address+'/'+'daily_'+str(j+1)+'.csv'\n",
    "        file_write = open(final_address,\"w\")\n",
    "        for k in range(0,len(total_list_1[j])):\n",
    "            per_line = str(total_list_1[j][k]) + ',' + str(total_list_2[j][k]) + '\\n'\n",
    "            file_write.write(per_line)\n",
    "        file_write.close()"
   ]
  },
  {
   "cell_type": "code",
   "execution_count": 92,
   "metadata": {},
   "outputs": [
    {
     "data": {
      "text/plain": [
       "28"
      ]
     },
     "execution_count": 92,
     "metadata": {},
     "output_type": "execute_result"
    }
   ],
   "source": [
    "len(days_domain)"
   ]
  },
  {
   "cell_type": "code",
   "execution_count": 91,
   "metadata": {},
   "outputs": [
    {
     "data": {
      "text/plain": [
       "'datasets/25_1_0_1_1/daily.csv'"
      ]
     },
     "execution_count": 91,
     "metadata": {},
     "output_type": "execute_result"
    }
   ],
   "source": [
    "tem_address"
   ]
  },
  {
   "cell_type": "code",
   "execution_count": 90,
   "metadata": {},
   "outputs": [
    {
     "data": {
      "text/plain": [
       "[-1]"
      ]
     },
     "execution_count": 90,
     "metadata": {},
     "output_type": "execute_result"
    }
   ],
   "source": [
    "line_col_1"
   ]
  },
  {
   "cell_type": "code",
   "execution_count": 88,
   "metadata": {},
   "outputs": [
    {
     "data": {
      "text/plain": [
       "array([ 1.,  2.,  3.,  4.,  5.,  6.,  7.,  8.,  9., 10., 11., 12., 13.,\n",
       "       14., 15., 16., 17., 18., 19., 20., 21., 22., 23., 24., 25., 26.,\n",
       "       27., 28.])"
      ]
     },
     "execution_count": 88,
     "metadata": {},
     "output_type": "execute_result"
    }
   ],
   "source": [
    "days_domain"
   ]
  },
  {
   "cell_type": "code",
   "execution_count": 89,
   "metadata": {},
   "outputs": [
    {
     "data": {
      "text/plain": [
       "array([1])"
      ]
     },
     "execution_count": 89,
     "metadata": {},
     "output_type": "execute_result"
    }
   ],
   "source": [
    "days"
   ]
  },
  {
   "cell_type": "code",
   "execution_count": 86,
   "metadata": {},
   "outputs": [
    {
     "data": {
      "text/plain": [
       "'datasets/25_1_0_1_0/daily_dataset'"
      ]
     },
     "execution_count": 86,
     "metadata": {},
     "output_type": "execute_result"
    }
   ],
   "source": [
    "add_list[0]+'/daily_dataset'"
   ]
  },
  {
   "cell_type": "code",
   "execution_count": 39,
   "metadata": {},
   "outputs": [
    {
     "name": "stdout",
     "output_type": "stream",
     "text": [
      "day\n",
      "infection_occured\n",
      "[-1, 6, 8, 10, 11, 12, 13, 14, 15, 16, 17, 18, 19, 20, 21, 22, 23, 24, 25, 26, 27]\n",
      "[1, 1, 1, 3, 5, 7, 2, 3, 5, 12, 12, 18, 22, 6, 9, 26, 35, 55, 30, 42, 8]\n",
      "[ 1  7  9 11 12 13 14 15 16 17 18 19 20 21 22 23 24 25 26 27 28]\n"
     ]
    }
   ],
   "source": [
    "\n",
    "#read daily, daily_cum\n",
    "tem_address = add_list[0]+'/daily.csv'\n",
    "file1 = open(tem_address, 'r') \n",
    "file_csv = file1.readlines()\n",
    "\n",
    "line_col_1 = []\n",
    "line_col_2 = []\n",
    "line_col_3 = []\n",
    "\n",
    "s=0\n",
    "for line in file_csv:\n",
    "    S = line.replace('\\n','').split(',')\n",
    "    if s==0:\n",
    "        title_1 = S[0]\n",
    "        title_2 = S[2]\n",
    "    if not s==0:\n",
    "        line_col_1.append(int(S[0]))\n",
    "        line_col_2.append(int(S[1]))\n",
    "        line_col_3.append(int(S[2]))\n",
    "    s+=1\n",
    "\n",
    "days = np.asarray(line_col_1)\n",
    "days[0] = 0\n",
    "days = days+1\n",
    "print(days)\n"
   ]
  },
  {
   "cell_type": "code",
   "execution_count": 59,
   "metadata": {},
   "outputs": [],
   "source": [
    "days_domain = np.linspace(1,28,num=28)\n",
    "output_lin_2 = []\n",
    "days_domain_int = []\n",
    "a=0\n",
    "for i in range(0,len(days_domain)):\n",
    "    if days[a] == days_domain[i]:\n",
    "        output_lin_2.append(line_col_2[a])\n",
    "        a+=1\n",
    "    else:\n",
    "        output_lin_2.append(0) #getting output\n",
    "    days_domain_int.append(int(days_domain[i])) #getting the domain\n",
    "days_domain = days_domain_int"
   ]
  },
  {
   "cell_type": "code",
   "execution_count": 74,
   "metadata": {},
   "outputs": [],
   "source": [
    "# titls is title1, title2\n",
    "# data is days_domain_int and days_domain\n",
    "total_list_1 = []\n",
    "total_list_2 = []\n",
    "for i in range(1,len(days_domain)+1):\n",
    "    output_list_1 = []\n",
    "    output_list_2 = []\n",
    "    output_list_1.append(title_1)\n",
    "    output_list_2.append(title_2) \n",
    "    for j in range(0,i):\n",
    "        output_list_1.append(days_domain[j])\n",
    "        output_list_2.append(output_lin_2[j])\n",
    "    total_list_1.append(output_list_1)\n",
    "    total_list_2.append(output_list_2)\n",
    "    "
   ]
  },
  {
   "cell_type": "code",
   "execution_count": 75,
   "metadata": {},
   "outputs": [],
   "source": [
    "# print as CSV file\n",
    "file_dest_address = add_list[0]+daily"
   ]
  },
  {
   "cell_type": "code",
   "execution_count": 83,
   "metadata": {},
   "outputs": [],
   "source": [
    "for i in range(0,len(total_list_1)):\n",
    "    final_address = file_dest_address+'/'+'daily_'+str(i+1)+'.csv'\n",
    "    file_write = open(final_address,\"w\")\n",
    "    for j in range(0,len(total_list_1[i])):\n",
    "        per_line = str(total_list_1[i][j]) + ',' + str(total_list_2[i][j]) + '\\n'\n",
    "        file_write.write(per_line)\n",
    "    file_write.close()\n",
    "    "
   ]
  },
  {
   "cell_type": "code",
   "execution_count": 81,
   "metadata": {
    "collapsed": true
   },
   "outputs": [
    {
     "data": {
      "text/plain": [
       "[['day', 1],\n",
       " ['day', 1, 2],\n",
       " ['day', 1, 2, 3],\n",
       " ['day', 1, 2, 3, 4],\n",
       " ['day', 1, 2, 3, 4, 5],\n",
       " ['day', 1, 2, 3, 4, 5, 6],\n",
       " ['day', 1, 2, 3, 4, 5, 6, 7],\n",
       " ['day', 1, 2, 3, 4, 5, 6, 7, 8],\n",
       " ['day', 1, 2, 3, 4, 5, 6, 7, 8, 9],\n",
       " ['day', 1, 2, 3, 4, 5, 6, 7, 8, 9, 10],\n",
       " ['day', 1, 2, 3, 4, 5, 6, 7, 8, 9, 10, 11],\n",
       " ['day', 1, 2, 3, 4, 5, 6, 7, 8, 9, 10, 11, 12],\n",
       " ['day', 1, 2, 3, 4, 5, 6, 7, 8, 9, 10, 11, 12, 13],\n",
       " ['day', 1, 2, 3, 4, 5, 6, 7, 8, 9, 10, 11, 12, 13, 14],\n",
       " ['day', 1, 2, 3, 4, 5, 6, 7, 8, 9, 10, 11, 12, 13, 14, 15],\n",
       " ['day', 1, 2, 3, 4, 5, 6, 7, 8, 9, 10, 11, 12, 13, 14, 15, 16],\n",
       " ['day', 1, 2, 3, 4, 5, 6, 7, 8, 9, 10, 11, 12, 13, 14, 15, 16, 17],\n",
       " ['day', 1, 2, 3, 4, 5, 6, 7, 8, 9, 10, 11, 12, 13, 14, 15, 16, 17, 18],\n",
       " ['day', 1, 2, 3, 4, 5, 6, 7, 8, 9, 10, 11, 12, 13, 14, 15, 16, 17, 18, 19],\n",
       " ['day',\n",
       "  1,\n",
       "  2,\n",
       "  3,\n",
       "  4,\n",
       "  5,\n",
       "  6,\n",
       "  7,\n",
       "  8,\n",
       "  9,\n",
       "  10,\n",
       "  11,\n",
       "  12,\n",
       "  13,\n",
       "  14,\n",
       "  15,\n",
       "  16,\n",
       "  17,\n",
       "  18,\n",
       "  19,\n",
       "  20],\n",
       " ['day',\n",
       "  1,\n",
       "  2,\n",
       "  3,\n",
       "  4,\n",
       "  5,\n",
       "  6,\n",
       "  7,\n",
       "  8,\n",
       "  9,\n",
       "  10,\n",
       "  11,\n",
       "  12,\n",
       "  13,\n",
       "  14,\n",
       "  15,\n",
       "  16,\n",
       "  17,\n",
       "  18,\n",
       "  19,\n",
       "  20,\n",
       "  21],\n",
       " ['day',\n",
       "  1,\n",
       "  2,\n",
       "  3,\n",
       "  4,\n",
       "  5,\n",
       "  6,\n",
       "  7,\n",
       "  8,\n",
       "  9,\n",
       "  10,\n",
       "  11,\n",
       "  12,\n",
       "  13,\n",
       "  14,\n",
       "  15,\n",
       "  16,\n",
       "  17,\n",
       "  18,\n",
       "  19,\n",
       "  20,\n",
       "  21,\n",
       "  22],\n",
       " ['day',\n",
       "  1,\n",
       "  2,\n",
       "  3,\n",
       "  4,\n",
       "  5,\n",
       "  6,\n",
       "  7,\n",
       "  8,\n",
       "  9,\n",
       "  10,\n",
       "  11,\n",
       "  12,\n",
       "  13,\n",
       "  14,\n",
       "  15,\n",
       "  16,\n",
       "  17,\n",
       "  18,\n",
       "  19,\n",
       "  20,\n",
       "  21,\n",
       "  22,\n",
       "  23],\n",
       " ['day',\n",
       "  1,\n",
       "  2,\n",
       "  3,\n",
       "  4,\n",
       "  5,\n",
       "  6,\n",
       "  7,\n",
       "  8,\n",
       "  9,\n",
       "  10,\n",
       "  11,\n",
       "  12,\n",
       "  13,\n",
       "  14,\n",
       "  15,\n",
       "  16,\n",
       "  17,\n",
       "  18,\n",
       "  19,\n",
       "  20,\n",
       "  21,\n",
       "  22,\n",
       "  23,\n",
       "  24],\n",
       " ['day',\n",
       "  1,\n",
       "  2,\n",
       "  3,\n",
       "  4,\n",
       "  5,\n",
       "  6,\n",
       "  7,\n",
       "  8,\n",
       "  9,\n",
       "  10,\n",
       "  11,\n",
       "  12,\n",
       "  13,\n",
       "  14,\n",
       "  15,\n",
       "  16,\n",
       "  17,\n",
       "  18,\n",
       "  19,\n",
       "  20,\n",
       "  21,\n",
       "  22,\n",
       "  23,\n",
       "  24,\n",
       "  25],\n",
       " ['day',\n",
       "  1,\n",
       "  2,\n",
       "  3,\n",
       "  4,\n",
       "  5,\n",
       "  6,\n",
       "  7,\n",
       "  8,\n",
       "  9,\n",
       "  10,\n",
       "  11,\n",
       "  12,\n",
       "  13,\n",
       "  14,\n",
       "  15,\n",
       "  16,\n",
       "  17,\n",
       "  18,\n",
       "  19,\n",
       "  20,\n",
       "  21,\n",
       "  22,\n",
       "  23,\n",
       "  24,\n",
       "  25,\n",
       "  26],\n",
       " ['day',\n",
       "  1,\n",
       "  2,\n",
       "  3,\n",
       "  4,\n",
       "  5,\n",
       "  6,\n",
       "  7,\n",
       "  8,\n",
       "  9,\n",
       "  10,\n",
       "  11,\n",
       "  12,\n",
       "  13,\n",
       "  14,\n",
       "  15,\n",
       "  16,\n",
       "  17,\n",
       "  18,\n",
       "  19,\n",
       "  20,\n",
       "  21,\n",
       "  22,\n",
       "  23,\n",
       "  24,\n",
       "  25,\n",
       "  26,\n",
       "  27],\n",
       " ['day',\n",
       "  1,\n",
       "  2,\n",
       "  3,\n",
       "  4,\n",
       "  5,\n",
       "  6,\n",
       "  7,\n",
       "  8,\n",
       "  9,\n",
       "  10,\n",
       "  11,\n",
       "  12,\n",
       "  13,\n",
       "  14,\n",
       "  15,\n",
       "  16,\n",
       "  17,\n",
       "  18,\n",
       "  19,\n",
       "  20,\n",
       "  21,\n",
       "  22,\n",
       "  23,\n",
       "  24,\n",
       "  25,\n",
       "  26,\n",
       "  27,\n",
       "  28]]"
      ]
     },
     "execution_count": 81,
     "metadata": {},
     "output_type": "execute_result"
    }
   ],
   "source": [
    "total_list_1"
   ]
  },
  {
   "cell_type": "code",
   "execution_count": null,
   "metadata": {},
   "outputs": [],
   "source": []
  }
 ],
 "metadata": {
  "kernelspec": {
   "display_name": "Python 3",
   "language": "python",
   "name": "python3"
  },
  "language_info": {
   "codemirror_mode": {
    "name": "ipython",
    "version": 3
   },
   "file_extension": ".py",
   "mimetype": "text/x-python",
   "name": "python",
   "nbconvert_exporter": "python",
   "pygments_lexer": "ipython3",
   "version": "3.8.3"
  }
 },
 "nbformat": 4,
 "nbformat_minor": 2
}
